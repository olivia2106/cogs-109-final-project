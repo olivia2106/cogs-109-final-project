{
 "cells": [
  {
   "cell_type": "code",
   "execution_count": 1,
   "metadata": {},
   "outputs": [],
   "source": [
    "import matplotlib.pyplot as plt\n",
    "import pandas as pd             \n",
    "import numpy as np\n",
    "import statsmodels.formula.api as smf  \n",
    "import statsmodels as sm  \n",
    "import sklearn.linear_model as sk\n",
    "import scipy\n",
    "import matplotlib.pyplot as plt\n",
    "import statsmodels.formula.api as smf\n",
    "from sklearn import metrics\n",
    "import seaborn as sns"
   ]
  },
  {
   "cell_type": "code",
   "execution_count": 72,
   "metadata": {},
   "outputs": [
    {
     "ename": "TypeError",
     "evalue": "unsupported operand type(s) for /: 'str' and 'int'",
     "output_type": "error",
     "traceback": [
      "\u001b[0;31m---------------------------------------------------------------------------\u001b[0m",
      "\u001b[0;31mTypeError\u001b[0m                                 Traceback (most recent call last)",
      "\u001b[0;32m/opt/conda/lib/python3.6/site-packages/pandas/core/ops.py\u001b[0m in \u001b[0;36mna_op\u001b[0;34m(x, y)\u001b[0m\n\u001b[1;32m   1011\u001b[0m         \u001b[0;32mtry\u001b[0m\u001b[0;34m:\u001b[0m\u001b[0;34m\u001b[0m\u001b[0;34m\u001b[0m\u001b[0m\n\u001b[0;32m-> 1012\u001b[0;31m             \u001b[0mresult\u001b[0m \u001b[0;34m=\u001b[0m \u001b[0mexpressions\u001b[0m\u001b[0;34m.\u001b[0m\u001b[0mevaluate\u001b[0m\u001b[0;34m(\u001b[0m\u001b[0mop\u001b[0m\u001b[0;34m,\u001b[0m \u001b[0mstr_rep\u001b[0m\u001b[0;34m,\u001b[0m \u001b[0mx\u001b[0m\u001b[0;34m,\u001b[0m \u001b[0my\u001b[0m\u001b[0;34m,\u001b[0m \u001b[0;34m**\u001b[0m\u001b[0meval_kwargs\u001b[0m\u001b[0;34m)\u001b[0m\u001b[0;34m\u001b[0m\u001b[0;34m\u001b[0m\u001b[0m\n\u001b[0m\u001b[1;32m   1013\u001b[0m         \u001b[0;32mexcept\u001b[0m \u001b[0mTypeError\u001b[0m\u001b[0;34m:\u001b[0m\u001b[0;34m\u001b[0m\u001b[0;34m\u001b[0m\u001b[0m\n",
      "\u001b[0;32m/opt/conda/lib/python3.6/site-packages/pandas/core/computation/expressions.py\u001b[0m in \u001b[0;36mevaluate\u001b[0;34m(op, op_str, a, b, use_numexpr, **eval_kwargs)\u001b[0m\n\u001b[1;32m    204\u001b[0m     \u001b[0;32mif\u001b[0m \u001b[0muse_numexpr\u001b[0m\u001b[0;34m:\u001b[0m\u001b[0;34m\u001b[0m\u001b[0;34m\u001b[0m\u001b[0m\n\u001b[0;32m--> 205\u001b[0;31m         \u001b[0;32mreturn\u001b[0m \u001b[0m_evaluate\u001b[0m\u001b[0;34m(\u001b[0m\u001b[0mop\u001b[0m\u001b[0;34m,\u001b[0m \u001b[0mop_str\u001b[0m\u001b[0;34m,\u001b[0m \u001b[0ma\u001b[0m\u001b[0;34m,\u001b[0m \u001b[0mb\u001b[0m\u001b[0;34m,\u001b[0m \u001b[0;34m**\u001b[0m\u001b[0meval_kwargs\u001b[0m\u001b[0;34m)\u001b[0m\u001b[0;34m\u001b[0m\u001b[0;34m\u001b[0m\u001b[0m\n\u001b[0m\u001b[1;32m    206\u001b[0m     \u001b[0;32mreturn\u001b[0m \u001b[0m_evaluate_standard\u001b[0m\u001b[0;34m(\u001b[0m\u001b[0mop\u001b[0m\u001b[0;34m,\u001b[0m \u001b[0mop_str\u001b[0m\u001b[0;34m,\u001b[0m \u001b[0ma\u001b[0m\u001b[0;34m,\u001b[0m \u001b[0mb\u001b[0m\u001b[0;34m)\u001b[0m\u001b[0;34m\u001b[0m\u001b[0;34m\u001b[0m\u001b[0m\n",
      "\u001b[0;32m/opt/conda/lib/python3.6/site-packages/pandas/core/computation/expressions.py\u001b[0m in \u001b[0;36m_evaluate_numexpr\u001b[0;34m(op, op_str, a, b, truediv, reversed, **eval_kwargs)\u001b[0m\n\u001b[1;32m    119\u001b[0m     \u001b[0;32mif\u001b[0m \u001b[0mresult\u001b[0m \u001b[0;32mis\u001b[0m \u001b[0;32mNone\u001b[0m\u001b[0;34m:\u001b[0m\u001b[0;34m\u001b[0m\u001b[0;34m\u001b[0m\u001b[0m\n\u001b[0;32m--> 120\u001b[0;31m         \u001b[0mresult\u001b[0m \u001b[0;34m=\u001b[0m \u001b[0m_evaluate_standard\u001b[0m\u001b[0;34m(\u001b[0m\u001b[0mop\u001b[0m\u001b[0;34m,\u001b[0m \u001b[0mop_str\u001b[0m\u001b[0;34m,\u001b[0m \u001b[0ma\u001b[0m\u001b[0;34m,\u001b[0m \u001b[0mb\u001b[0m\u001b[0;34m)\u001b[0m\u001b[0;34m\u001b[0m\u001b[0;34m\u001b[0m\u001b[0m\n\u001b[0m\u001b[1;32m    121\u001b[0m \u001b[0;34m\u001b[0m\u001b[0m\n",
      "\u001b[0;32m/opt/conda/lib/python3.6/site-packages/pandas/core/computation/expressions.py\u001b[0m in \u001b[0;36m_evaluate_standard\u001b[0;34m(op, op_str, a, b, **eval_kwargs)\u001b[0m\n\u001b[1;32m     64\u001b[0m     \u001b[0;32mwith\u001b[0m \u001b[0mnp\u001b[0m\u001b[0;34m.\u001b[0m\u001b[0merrstate\u001b[0m\u001b[0;34m(\u001b[0m\u001b[0mall\u001b[0m\u001b[0;34m=\u001b[0m\u001b[0;34m'ignore'\u001b[0m\u001b[0;34m)\u001b[0m\u001b[0;34m:\u001b[0m\u001b[0;34m\u001b[0m\u001b[0;34m\u001b[0m\u001b[0m\n\u001b[0;32m---> 65\u001b[0;31m         \u001b[0;32mreturn\u001b[0m \u001b[0mop\u001b[0m\u001b[0;34m(\u001b[0m\u001b[0ma\u001b[0m\u001b[0;34m,\u001b[0m \u001b[0mb\u001b[0m\u001b[0;34m)\u001b[0m\u001b[0;34m\u001b[0m\u001b[0;34m\u001b[0m\u001b[0m\n\u001b[0m\u001b[1;32m     66\u001b[0m \u001b[0;34m\u001b[0m\u001b[0m\n",
      "\u001b[0;31mTypeError\u001b[0m: unsupported operand type(s) for /: 'str' and 'int'",
      "\nDuring handling of the above exception, another exception occurred:\n",
      "\u001b[0;31mTypeError\u001b[0m                                 Traceback (most recent call last)",
      "\u001b[0;32m/opt/conda/lib/python3.6/site-packages/pandas/core/ops.py\u001b[0m in \u001b[0;36msafe_na_op\u001b[0;34m(lvalues, rvalues)\u001b[0m\n\u001b[1;32m   1032\u001b[0m             \u001b[0;32mwith\u001b[0m \u001b[0mnp\u001b[0m\u001b[0;34m.\u001b[0m\u001b[0merrstate\u001b[0m\u001b[0;34m(\u001b[0m\u001b[0mall\u001b[0m\u001b[0;34m=\u001b[0m\u001b[0;34m'ignore'\u001b[0m\u001b[0;34m)\u001b[0m\u001b[0;34m:\u001b[0m\u001b[0;34m\u001b[0m\u001b[0;34m\u001b[0m\u001b[0m\n\u001b[0;32m-> 1033\u001b[0;31m                 \u001b[0;32mreturn\u001b[0m \u001b[0mna_op\u001b[0m\u001b[0;34m(\u001b[0m\u001b[0mlvalues\u001b[0m\u001b[0;34m,\u001b[0m \u001b[0mrvalues\u001b[0m\u001b[0;34m)\u001b[0m\u001b[0;34m\u001b[0m\u001b[0;34m\u001b[0m\u001b[0m\n\u001b[0m\u001b[1;32m   1034\u001b[0m         \u001b[0;32mexcept\u001b[0m \u001b[0mException\u001b[0m\u001b[0;34m:\u001b[0m\u001b[0;34m\u001b[0m\u001b[0;34m\u001b[0m\u001b[0m\n",
      "\u001b[0;32m/opt/conda/lib/python3.6/site-packages/pandas/core/ops.py\u001b[0m in \u001b[0;36mna_op\u001b[0;34m(x, y)\u001b[0m\n\u001b[1;32m   1022\u001b[0m                 \u001b[0mmask\u001b[0m \u001b[0;34m=\u001b[0m \u001b[0mnotna\u001b[0m\u001b[0;34m(\u001b[0m\u001b[0mx\u001b[0m\u001b[0;34m)\u001b[0m\u001b[0;34m\u001b[0m\u001b[0;34m\u001b[0m\u001b[0m\n\u001b[0;32m-> 1023\u001b[0;31m                 \u001b[0mresult\u001b[0m\u001b[0;34m[\u001b[0m\u001b[0mmask\u001b[0m\u001b[0;34m]\u001b[0m \u001b[0;34m=\u001b[0m \u001b[0mop\u001b[0m\u001b[0;34m(\u001b[0m\u001b[0mx\u001b[0m\u001b[0;34m[\u001b[0m\u001b[0mmask\u001b[0m\u001b[0;34m]\u001b[0m\u001b[0;34m,\u001b[0m \u001b[0my\u001b[0m\u001b[0;34m)\u001b[0m\u001b[0;34m\u001b[0m\u001b[0;34m\u001b[0m\u001b[0m\n\u001b[0m\u001b[1;32m   1024\u001b[0m \u001b[0;34m\u001b[0m\u001b[0m\n",
      "\u001b[0;31mTypeError\u001b[0m: unsupported operand type(s) for /: 'str' and 'int'",
      "\nDuring handling of the above exception, another exception occurred:\n",
      "\u001b[0;31mTypeError\u001b[0m                                 Traceback (most recent call last)",
      "\u001b[0;32m<ipython-input-72-e09a7123af9b>\u001b[0m in \u001b[0;36m<module>\u001b[0;34m\u001b[0m\n\u001b[1;32m      3\u001b[0m \u001b[0mdat\u001b[0m\u001b[0;34m=\u001b[0m \u001b[0mdat\u001b[0m\u001b[0;34m.\u001b[0m\u001b[0mrename\u001b[0m\u001b[0;34m(\u001b[0m\u001b[0mcolumns\u001b[0m\u001b[0;34m=\u001b[0m\u001b[0;34m{\u001b[0m\u001b[0;34m'gdp_per_capita ($)'\u001b[0m\u001b[0;34m:\u001b[0m \u001b[0;34m'gdp_per_capita'\u001b[0m\u001b[0;34m}\u001b[0m\u001b[0;34m)\u001b[0m\u001b[0;34m\u001b[0m\u001b[0;34m\u001b[0m\u001b[0m\n\u001b[1;32m      4\u001b[0m \u001b[0mdat\u001b[0m\u001b[0;34m=\u001b[0m \u001b[0mdat\u001b[0m\u001b[0;34m.\u001b[0m\u001b[0mrename\u001b[0m\u001b[0;34m(\u001b[0m\u001b[0mcolumns\u001b[0m\u001b[0;34m=\u001b[0m\u001b[0;34m{\u001b[0m\u001b[0;34m' gdp_for_year ($) '\u001b[0m\u001b[0;34m:\u001b[0m \u001b[0;34m'gdp_per_year'\u001b[0m\u001b[0;34m}\u001b[0m\u001b[0;34m)\u001b[0m\u001b[0;34m\u001b[0m\u001b[0;34m\u001b[0m\u001b[0m\n\u001b[0;32m----> 5\u001b[0;31m \u001b[0mdat\u001b[0m\u001b[0;34m.\u001b[0m\u001b[0mgdp_per_year\u001b[0m\u001b[0;34m=\u001b[0m \u001b[0mdat\u001b[0m\u001b[0;34m.\u001b[0m\u001b[0mgdp_per_year\u001b[0m\u001b[0;34m/\u001b[0m\u001b[0;36m10\u001b[0m\u001b[0;34m**\u001b[0m\u001b[0;36m6\u001b[0m\u001b[0;34m\u001b[0m\u001b[0;34m\u001b[0m\u001b[0m\n\u001b[0m\u001b[1;32m      6\u001b[0m \u001b[0mcountries\u001b[0m\u001b[0;34m=\u001b[0m \u001b[0mpd\u001b[0m\u001b[0;34m.\u001b[0m\u001b[0munique\u001b[0m\u001b[0;34m(\u001b[0m\u001b[0mdat\u001b[0m\u001b[0;34m.\u001b[0m\u001b[0mcountry\u001b[0m\u001b[0;34m)\u001b[0m\u001b[0;34m\u001b[0m\u001b[0;34m\u001b[0m\u001b[0m\n\u001b[1;32m      7\u001b[0m \u001b[0mprint\u001b[0m\u001b[0;34m(\u001b[0m\u001b[0mcountries\u001b[0m\u001b[0;34m,\u001b[0m\u001b[0;34m'\\n'\u001b[0m\u001b[0;34m)\u001b[0m\u001b[0;34m\u001b[0m\u001b[0;34m\u001b[0m\u001b[0m\n",
      "\u001b[0;32m/opt/conda/lib/python3.6/site-packages/pandas/core/ops.py\u001b[0m in \u001b[0;36mwrapper\u001b[0;34m(left, right)\u001b[0m\n\u001b[1;32m   1067\u001b[0m             \u001b[0mrvalues\u001b[0m \u001b[0;34m=\u001b[0m \u001b[0mrvalues\u001b[0m\u001b[0;34m.\u001b[0m\u001b[0mvalues\u001b[0m\u001b[0;34m\u001b[0m\u001b[0;34m\u001b[0m\u001b[0m\n\u001b[1;32m   1068\u001b[0m \u001b[0;34m\u001b[0m\u001b[0m\n\u001b[0;32m-> 1069\u001b[0;31m         \u001b[0mresult\u001b[0m \u001b[0;34m=\u001b[0m \u001b[0msafe_na_op\u001b[0m\u001b[0;34m(\u001b[0m\u001b[0mlvalues\u001b[0m\u001b[0;34m,\u001b[0m \u001b[0mrvalues\u001b[0m\u001b[0;34m)\u001b[0m\u001b[0;34m\u001b[0m\u001b[0;34m\u001b[0m\u001b[0m\n\u001b[0m\u001b[1;32m   1070\u001b[0m         return construct_result(left, result,\n\u001b[1;32m   1071\u001b[0m                                 index=left.index, name=res_name, dtype=None)\n",
      "\u001b[0;32m/opt/conda/lib/python3.6/site-packages/pandas/core/ops.py\u001b[0m in \u001b[0;36msafe_na_op\u001b[0;34m(lvalues, rvalues)\u001b[0m\n\u001b[1;32m   1035\u001b[0m             \u001b[0;32mif\u001b[0m \u001b[0mis_object_dtype\u001b[0m\u001b[0;34m(\u001b[0m\u001b[0mlvalues\u001b[0m\u001b[0;34m)\u001b[0m\u001b[0;34m:\u001b[0m\u001b[0;34m\u001b[0m\u001b[0;34m\u001b[0m\u001b[0m\n\u001b[1;32m   1036\u001b[0m                 return libalgos.arrmap_object(lvalues,\n\u001b[0;32m-> 1037\u001b[0;31m                                               lambda x: op(x, rvalues))\n\u001b[0m\u001b[1;32m   1038\u001b[0m             \u001b[0;32mraise\u001b[0m\u001b[0;34m\u001b[0m\u001b[0;34m\u001b[0m\u001b[0m\n\u001b[1;32m   1039\u001b[0m \u001b[0;34m\u001b[0m\u001b[0m\n",
      "\u001b[0;32mpandas/_libs/algos_common_helper.pxi\u001b[0m in \u001b[0;36mpandas._libs.algos.arrmap_object\u001b[0;34m()\u001b[0m\n",
      "\u001b[0;32m/opt/conda/lib/python3.6/site-packages/pandas/core/ops.py\u001b[0m in \u001b[0;36m<lambda>\u001b[0;34m(x)\u001b[0m\n\u001b[1;32m   1035\u001b[0m             \u001b[0;32mif\u001b[0m \u001b[0mis_object_dtype\u001b[0m\u001b[0;34m(\u001b[0m\u001b[0mlvalues\u001b[0m\u001b[0;34m)\u001b[0m\u001b[0;34m:\u001b[0m\u001b[0;34m\u001b[0m\u001b[0;34m\u001b[0m\u001b[0m\n\u001b[1;32m   1036\u001b[0m                 return libalgos.arrmap_object(lvalues,\n\u001b[0;32m-> 1037\u001b[0;31m                                               lambda x: op(x, rvalues))\n\u001b[0m\u001b[1;32m   1038\u001b[0m             \u001b[0;32mraise\u001b[0m\u001b[0;34m\u001b[0m\u001b[0;34m\u001b[0m\u001b[0m\n\u001b[1;32m   1039\u001b[0m \u001b[0;34m\u001b[0m\u001b[0m\n",
      "\u001b[0;31mTypeError\u001b[0m: unsupported operand type(s) for /: 'str' and 'int'"
     ]
    }
   ],
   "source": [
    "dat= pd.read_csv('project1.csv')\n",
    "\n",
    "dat= dat.rename(columns={'gdp_per_capita ($)': 'gdp_per_capita'})\n",
    "dat= dat.rename(columns={' gdp_for_year ($) ': 'gdp_per_year'})\n",
    "\n",
    "countries= pd.unique(dat.country)\n",
    "print(countries,'\\n')\n",
    "\n",
    "gen= pd.unique(dat.generation)\n",
    "print(gen,'\\n')\n",
    "\n",
    "age= pd.unique(dat.age)\n",
    "print(age,'\\n')\n",
    "\n",
    "gdp_capita= dat.gdp_per_capita\n",
    "gdp_year= dat.gdp_per_year\n",
    "\n",
    "column_names = dat.columns\n",
    "print(column_names, '\\n')"
   ]
  },
  {
   "cell_type": "code",
   "execution_count": 3,
   "metadata": {},
   "outputs": [
    {
     "data": {
      "image/png": "[encoded data removed]",
      "text/plain": [
       "<Figure size 432x288 with 2 Axes>"
      ]
     },
     "metadata": {
      "needs_background": "light"
     },
     "output_type": "display_data"
    }
   ],
   "source": [
    "corr = dat.corr()\n",
    "fig = plt.figure()\n",
    "ax = fig.add_subplot(111)\n",
    "cax = ax.matshow(corr,cmap='coolwarm', vmin=-1, vmax=1)\n",
    "fig.colorbar(cax)\n",
    "ticks = np.arange(0,len(dat.columns),1)\n",
    "ax.set_xticks(ticks)\n",
    "plt.xticks(rotation=90)\n",
    "ax.set_yticks(ticks)\n",
    "ax.set_xticklabels(dat.columns)\n",
    "ax.set_yticklabels(dat.columns)\n",
    "plt.show()"
   ]
  },
  {
   "cell_type": "code",
   "execution_count": 4,
   "metadata": {},
   "outputs": [
    {
     "name": "stdout",
     "output_type": "stream",
     "text": [
      "country\n",
      "Mongolia                   10\n",
      "Dominica                   12\n",
      "Macau                      12\n",
      "Cabo Verde                 12\n",
      "Bosnia and Herzegovina     24\n",
      "Oman                       36\n",
      "Saint Kitts and Nevis      36\n",
      "San Marino                 36\n",
      "United Arab Emirates       72\n",
      "Nicaragua                  72\n",
      "Turkey                     84\n",
      "Montenegro                120\n",
      "Maldives                  120\n",
      "Fiji                      132\n",
      "Sri Lanka                 132\n",
      "Kiribati                  132\n",
      "Aruba                     168\n",
      "Qatar                     178\n",
      "Cyprus                    178\n",
      "Philippines               180\n",
      "Azerbaijan                192\n",
      "Jamaica                   204\n",
      "Seychelles                216\n",
      "Serbia                    216\n",
      "South Africa              240\n",
      "Belarus                   252\n",
      "Bahrain                   252\n",
      "Slovenia                  252\n",
      "Estonia                   252\n",
      "Switzerland               252\n",
      "                         ... \n",
      "Costa Rica                360\n",
      "Australia                 360\n",
      "Ireland                   360\n",
      "Bulgaria                  360\n",
      "Guatemala                 360\n",
      "France                    360\n",
      "Norway                    360\n",
      "Spain                     372\n",
      "United States             372\n",
      "Argentina                 372\n",
      "United Kingdom            372\n",
      "Greece                    372\n",
      "Belgium                   372\n",
      "Israel                    372\n",
      "Italy                     372\n",
      "Japan                     372\n",
      "Luxembourg                372\n",
      "Ecuador                   372\n",
      "Malta                     372\n",
      "Singapore                 372\n",
      "Chile                     372\n",
      "Colombia                  372\n",
      "Puerto Rico               372\n",
      "Republic of Korea         372\n",
      "Brazil                    372\n",
      "Mexico                    372\n",
      "Netherlands               382\n",
      "Austria                   382\n",
      "Iceland                   382\n",
      "Mauritius                 382\n",
      "Length: 101, dtype: int64\n",
      "country\n",
      "Maldives             120\n",
      "Montenegro           120\n",
      "Sri Lanka            132\n",
      "Kiribati             132\n",
      "Fiji                 132\n",
      "Aruba                168\n",
      "Qatar                178\n",
      "Cyprus               178\n",
      "Philippines          180\n",
      "Azerbaijan           192\n",
      "Jamaica              204\n",
      "Seychelles           216\n",
      "Serbia               216\n",
      "South Africa         240\n",
      "Latvia               252\n",
      "Estonia              252\n",
      "Bahrain              252\n",
      "Slovenia             252\n",
      "Switzerland          252\n",
      "Belarus              252\n",
      "Lithuania            262\n",
      "Croatia              262\n",
      "Slovakia             264\n",
      "Georgia              264\n",
      "Albania              264\n",
      "Uzbekistan           264\n",
      "Denmark              264\n",
      "Bahamas              276\n",
      "El Salvador          288\n",
      "Cuba                 288\n",
      "                    ... \n",
      "Australia            360\n",
      "France               360\n",
      "Norway               360\n",
      "Bulgaria             360\n",
      "Ireland              360\n",
      "Costa Rica           360\n",
      "Guatemala            360\n",
      "Spain                372\n",
      "Singapore            372\n",
      "United Kingdom       372\n",
      "United States        372\n",
      "Argentina            372\n",
      "Italy                372\n",
      "Israel               372\n",
      "Japan                372\n",
      "Colombia             372\n",
      "Chile                372\n",
      "Luxembourg           372\n",
      "Malta                372\n",
      "Republic of Korea    372\n",
      "Belgium              372\n",
      "Brazil               372\n",
      "Ecuador              372\n",
      "Greece               372\n",
      "Puerto Rico          372\n",
      "Mexico               372\n",
      "Netherlands          382\n",
      "Iceland              382\n",
      "Austria              382\n",
      "Mauritius            382\n",
      "Length: 90, dtype: int64\n"
     ]
    }
   ],
   "source": [
    "country_count= dat.groupby('country').size()\n",
    "print(country_count.sort_values())\n",
    "\n",
    "dat.drop(dat[dat['country'] == 'Mongolia'].index, inplace = True)\n",
    "dat.drop(dat[dat['country'] == 'Cabo Verde'].index, inplace = True)\n",
    "dat.drop(dat[dat['country'] == 'Dominica'].index, inplace = True)\n",
    "dat.drop(dat[dat['country'] == 'Macau'].index, inplace = True)\n",
    "dat.drop(dat[dat['country'] == 'Bosnia and Herzegovina'].index, inplace = True)\n",
    "dat.drop(dat[dat['country'] == 'Saint Kitts and Nevis'].index, inplace = True)\n",
    "dat.drop(dat[dat['country'] == 'San Marino'].index, inplace = True)\n",
    "dat.drop(dat[dat['country'] == 'Oman'].index, inplace = True)\n",
    "dat.drop(dat[dat['country'] == 'United Arab Emirates'].index, inplace = True)\n",
    "dat.drop(dat[dat['country'] == 'Nicaragua'].index, inplace = True)\n",
    "dat.drop(dat[dat['country'] == 'Turkey'].index, inplace = True)\n",
    "\n",
    "country_count= dat.groupby('country').size()\n",
    "print(country_count.sort_values())\n",
    "\n",
    "dat= dat[dat['suicides_no'] > 0]"
   ]
  },
  {
   "cell_type": "code",
   "execution_count": 18,
   "metadata": {},
   "outputs": [
    {
     "name": "stdout",
     "output_type": "stream",
     "text": [
      "    year  suicide_count\n",
      "0   1985         116063\n",
      "1   1986         120670\n",
      "2   1987         126842\n",
      "3   1988         121026\n",
      "4   1989         160244\n",
      "5   1990         193361\n",
      "6   1991         198020\n",
      "7   1992         211473\n",
      "8   1993         221565\n",
      "9   1994         232036\n",
      "10  1995         243544\n",
      "11  1996         246725\n",
      "12  1997         240745\n",
      "13  1998         249591\n",
      "14  1999         256117\n",
      "15  2000         255831\n",
      "16  2001         250652\n",
      "17  2002         256095\n",
      "18  2003         256079\n",
      "19  2004         240861\n",
      "20  2005         234278\n",
      "21  2006         233271\n",
      "22  2007         233307\n",
      "23  2008         235347\n",
      "24  2009         242300\n",
      "25  2010         236703\n",
      "26  2011         234920\n",
      "27  2012         228394\n",
      "28  2013         221038\n",
      "29  2014         220736\n",
      "30  2015         201793\n",
      "31  2016          15180\n"
     ]
    },
    {
     "data": {
      "text/plain": [
       "Text(0, 0.5, 'Suicide Count')"
      ]
     },
     "execution_count": 18,
     "metadata": {},
     "output_type": "execute_result"
    },
    {
     "data": {
      "image/png": "[encoded data removed]",
      "text/plain": [
       "<Figure size 720x720 with 1 Axes>"
      ]
     },
     "metadata": {
      "needs_background": "light"
     },
     "output_type": "display_data"
    }
   ],
   "source": [
    "suicide_per_year= pd.DataFrame({'suicide_count' : dat.groupby([\"year\"])[\"suicides_no\"].sum()}).reset_index()\n",
    "print(suicide_per_year)\n",
    "fig, ax= plt.subplots(figsize=(10,10))\n",
    "ax.plot(suicide_per_year.year, suicide_per_year.suicide_count)\n",
    "ax.set_title(\"Suicide Count from 1985-2016\")\n",
    "ax.set_xlabel(\"Year\")\n",
    "ax.set_ylabel(\"Suicide Count\") \n"
   ]
  },
  {
   "cell_type": "code",
   "execution_count": 21,
   "metadata": {
    "scrolled": true
   },
   "outputs": [
    {
     "name": "stdout",
     "output_type": "stream",
     "text": [
      "        generation  suicide_count\n",
      "0          Boomers        2282325\n",
      "1  G.I. Generation         510004\n",
      "2     Generation X        1528144\n",
      "3     Generation Z          15530\n",
      "4       Millenials         618181\n",
      "5           Silent        1780623\n"
     ]
    },
    {
     "data": {
      "text/plain": [
       "Text(0, 0.5, 'Suicide count')"
      ]
     },
     "execution_count": 21,
     "metadata": {},
     "output_type": "execute_result"
    },
    {
     "data": {
      "image/png": "[encoded data removed]",
      "text/plain": [
       "<Figure size 720x576 with 1 Axes>"
      ]
     },
     "metadata": {
      "needs_background": "light"
     },
     "output_type": "display_data"
    }
   ],
   "source": [
    "suicide_gen= pd.DataFrame({'suicide_count' : dat.groupby([\"generation\"])[\"suicides_no\"].sum()}).reset_index()\n",
    "print(suicide_gen)\n",
    "\n",
    "fig, ax= plt.subplots(figsize=(10,8))\n",
    "ax.bar(suicide_gen.generation, suicide_gen.suicide_count)\n",
    "ax.set_title(\"Suicide Count by Generation\")\n",
    "ax.set_xlabel(\"Generation type\")\n",
    "ax.set_ylabel(\"Suicide count\") \n"
   ]
  },
  {
   "cell_type": "code",
   "execution_count": 22,
   "metadata": {},
   "outputs": [
    {
     "name": "stdout",
     "output_type": "stream",
     "text": [
      "           age  suicide_count\n",
      "0  15-24 years         805429\n",
      "1  25-34 years        1120834\n",
      "2  35-54 years        2447832\n",
      "3   5-14 years          51888\n",
      "4  55-74 years        1656374\n",
      "5    75+ years         652450\n"
     ]
    },
    {
     "data": {
      "text/plain": [
       "Text(0, 0.5, 'Suicide count')"
      ]
     },
     "execution_count": 22,
     "metadata": {},
     "output_type": "execute_result"
    },
    {
     "data": {
      "image/png": "[encoded data removed]",
      "text/plain": [
       "<Figure size 720x576 with 1 Axes>"
      ]
     },
     "metadata": {
      "needs_background": "light"
     },
     "output_type": "display_data"
    }
   ],
   "source": [
    "suicide_age= pd.DataFrame({'suicide_count' : dat.groupby([\"age\"])[\"suicides_no\"].sum()}).reset_index()\n",
    "print(suicide_age)\n",
    "\n",
    "fig, ax= plt.subplots(figsize=(10,8))\n",
    "ax.bar(suicide_age.age, suicide_gen.suicide_count)\n",
    "ax.set_title(\"Suicide Count by Age\")\n",
    "ax.set_xlabel(\"Age group\")\n",
    "ax.set_ylabel(\"Suicide count\") "
   ]
  },
  {
   "cell_type": "code",
   "execution_count": 78,
   "metadata": {},
   "outputs": [
    {
     "name": "stdout",
     "output_type": "stream",
     "text": [
      "                         country  suicide_count\n",
      "27                      Dominica              0\n",
      "76         Saint Kitts and Nevis              0\n",
      "79                    San Marino              4\n",
      "1            Antigua and Barbuda             11\n",
      "55                      Maldives             20\n",
      "54                         Macau             27\n",
      "65                          Oman             33\n",
      "37                       Grenada             38\n",
      "17                    Cabo Verde             42\n",
      "48                      Kiribati             53\n",
      "8                        Bahamas             93\n",
      "81                    Seychelles             98\n",
      "4                          Aruba            101\n",
      "78  Saint Vincent and Grenadines            124\n",
      "10                      Barbados            177\n",
      "45                       Jamaica            184\n",
      "77                   Saint Lucia            230\n",
      "31                          Fiji            304\n",
      "14        Bosnia and Herzegovina            318\n",
      "13                        Belize            348\n",
      "24                        Cyprus            412\n",
      "59                      Mongolia            423\n",
      "9                        Bahrain            463\n",
      "60                    Montenegro            472\n",
      "72                         Qatar            574\n",
      "56                         Malta            585\n",
      "96          United Arab Emirates            622\n",
      "49                        Kuwait            966\n",
      "41                       Iceland           1108\n",
      "7                     Azerbaijan           1656\n",
      "..                           ...            ...\n",
      "89                        Sweden          37795\n",
      "19                         Chile          40895\n",
      "23                          Cuba          41418\n",
      "25                Czech Republic          43687\n",
      "6                        Austria          50073\n",
      "61                   Netherlands          50833\n",
      "20                      Colombia          53080\n",
      "87                     Sri Lanka          55641\n",
      "11                       Belarus          59892\n",
      "12                       Belgium          62761\n",
      "5                      Australia          70111\n",
      "74                       Romania          72777\n",
      "40                       Hungary          73891\n",
      "2                      Argentina          82219\n",
      "86                         Spain         100202\n",
      "47                    Kazakhstan         101546\n",
      "18                        Canada         107561\n",
      "91                      Thailand         110643\n",
      "58                        Mexico         111139\n",
      "44                         Italy         132060\n",
      "97                United Kingdom         136805\n",
      "69                        Poland         139098\n",
      "15                        Brazil         226613\n",
      "73             Republic of Korea         261730\n",
      "35                       Germany         291262\n",
      "95                       Ukraine         319950\n",
      "33                        France         329127\n",
      "46                         Japan         806902\n",
      "98                 United States        1034013\n",
      "75            Russian Federation        1209742\n",
      "\n",
      "[101 rows x 2 columns]\n"
     ]
    },
    {
     "ename": "DataError",
     "evalue": "No numeric types to aggregate",
     "output_type": "error",
     "traceback": [
      "\u001b[0;31m---------------------------------------------------------------------------\u001b[0m",
      "\u001b[0;31mDataError\u001b[0m                                 Traceback (most recent call last)",
      "\u001b[0;32m<ipython-input-78-fb92093184f2>\u001b[0m in \u001b[0;36m<module>\u001b[0;34m\u001b[0m\n\u001b[1;32m      6\u001b[0m \u001b[0;31m#Russian Federation, United States, Japan, France, Ukraine, Germany, Republic of Korea, Brazil, Poland, UK\u001b[0m\u001b[0;34m\u001b[0m\u001b[0;34m\u001b[0m\u001b[0;34m\u001b[0m\u001b[0m\n\u001b[1;32m      7\u001b[0m \u001b[0musa\u001b[0m\u001b[0;34m=\u001b[0m \u001b[0mdat\u001b[0m\u001b[0;34m[\u001b[0m\u001b[0mdat\u001b[0m\u001b[0;34m[\u001b[0m\u001b[0;34m'country'\u001b[0m\u001b[0;34m]\u001b[0m\u001b[0;34m==\u001b[0m\u001b[0;34m'United States'\u001b[0m\u001b[0;34m]\u001b[0m\u001b[0;34m\u001b[0m\u001b[0;34m\u001b[0m\u001b[0m\n\u001b[0;32m----> 8\u001b[0;31m \u001b[0mus_gdp\u001b[0m\u001b[0;34m=\u001b[0m \u001b[0mpd\u001b[0m\u001b[0;34m.\u001b[0m\u001b[0mDataFrame\u001b[0m\u001b[0;34m(\u001b[0m\u001b[0;34m{\u001b[0m\u001b[0;34m'gdp_per_year'\u001b[0m\u001b[0;34m:\u001b[0m \u001b[0musa\u001b[0m\u001b[0;34m.\u001b[0m\u001b[0mgroupby\u001b[0m\u001b[0;34m(\u001b[0m\u001b[0;34m[\u001b[0m\u001b[0;34m\"year\"\u001b[0m\u001b[0;34m]\u001b[0m\u001b[0;34m)\u001b[0m\u001b[0;34m[\u001b[0m\u001b[0;34m\"gdp_per_year\"\u001b[0m\u001b[0;34m]\u001b[0m\u001b[0;34m.\u001b[0m\u001b[0mmean\u001b[0m\u001b[0;34m(\u001b[0m\u001b[0;34m)\u001b[0m\u001b[0;34m}\u001b[0m\u001b[0;34m)\u001b[0m\u001b[0;34m.\u001b[0m\u001b[0mreset_index\u001b[0m\u001b[0;34m(\u001b[0m\u001b[0;34m)\u001b[0m\u001b[0;34m\u001b[0m\u001b[0;34m\u001b[0m\u001b[0m\n\u001b[0m\u001b[1;32m      9\u001b[0m \u001b[0mprint\u001b[0m\u001b[0;34m(\u001b[0m\u001b[0mus_gdp\u001b[0m\u001b[0;34m)\u001b[0m\u001b[0;34m\u001b[0m\u001b[0;34m\u001b[0m\u001b[0m\n\u001b[1;32m     10\u001b[0m \u001b[0;31m# fig, ax= plt.subplots(figsize=(10,8))\u001b[0m\u001b[0;34m\u001b[0m\u001b[0;34m\u001b[0m\u001b[0;34m\u001b[0m\u001b[0m\n",
      "\u001b[0;32m/opt/conda/lib/python3.6/site-packages/pandas/core/groupby/groupby.py\u001b[0m in \u001b[0;36mmean\u001b[0;34m(self, *args, **kwargs)\u001b[0m\n\u001b[1;32m   1304\u001b[0m         \u001b[0mnv\u001b[0m\u001b[0;34m.\u001b[0m\u001b[0mvalidate_groupby_func\u001b[0m\u001b[0;34m(\u001b[0m\u001b[0;34m'mean'\u001b[0m\u001b[0;34m,\u001b[0m \u001b[0margs\u001b[0m\u001b[0;34m,\u001b[0m \u001b[0mkwargs\u001b[0m\u001b[0;34m,\u001b[0m \u001b[0;34m[\u001b[0m\u001b[0;34m'numeric_only'\u001b[0m\u001b[0;34m]\u001b[0m\u001b[0;34m)\u001b[0m\u001b[0;34m\u001b[0m\u001b[0;34m\u001b[0m\u001b[0m\n\u001b[1;32m   1305\u001b[0m         \u001b[0;32mtry\u001b[0m\u001b[0;34m:\u001b[0m\u001b[0;34m\u001b[0m\u001b[0;34m\u001b[0m\u001b[0m\n\u001b[0;32m-> 1306\u001b[0;31m             \u001b[0;32mreturn\u001b[0m \u001b[0mself\u001b[0m\u001b[0;34m.\u001b[0m\u001b[0m_cython_agg_general\u001b[0m\u001b[0;34m(\u001b[0m\u001b[0;34m'mean'\u001b[0m\u001b[0;34m,\u001b[0m \u001b[0;34m**\u001b[0m\u001b[0mkwargs\u001b[0m\u001b[0;34m)\u001b[0m\u001b[0;34m\u001b[0m\u001b[0;34m\u001b[0m\u001b[0m\n\u001b[0m\u001b[1;32m   1307\u001b[0m         \u001b[0;32mexcept\u001b[0m \u001b[0mGroupByError\u001b[0m\u001b[0;34m:\u001b[0m\u001b[0;34m\u001b[0m\u001b[0;34m\u001b[0m\u001b[0m\n\u001b[1;32m   1308\u001b[0m             \u001b[0;32mraise\u001b[0m\u001b[0;34m\u001b[0m\u001b[0;34m\u001b[0m\u001b[0m\n",
      "\u001b[0;32m/opt/conda/lib/python3.6/site-packages/pandas/core/groupby/groupby.py\u001b[0m in \u001b[0;36m_cython_agg_general\u001b[0;34m(self, how, alt, numeric_only, min_count)\u001b[0m\n\u001b[1;32m   1054\u001b[0m \u001b[0;34m\u001b[0m\u001b[0m\n\u001b[1;32m   1055\u001b[0m         \u001b[0;32mif\u001b[0m \u001b[0mlen\u001b[0m\u001b[0;34m(\u001b[0m\u001b[0moutput\u001b[0m\u001b[0;34m)\u001b[0m \u001b[0;34m==\u001b[0m \u001b[0;36m0\u001b[0m\u001b[0;34m:\u001b[0m\u001b[0;34m\u001b[0m\u001b[0;34m\u001b[0m\u001b[0m\n\u001b[0;32m-> 1056\u001b[0;31m             \u001b[0;32mraise\u001b[0m \u001b[0mDataError\u001b[0m\u001b[0;34m(\u001b[0m\u001b[0;34m'No numeric types to aggregate'\u001b[0m\u001b[0;34m)\u001b[0m\u001b[0;34m\u001b[0m\u001b[0;34m\u001b[0m\u001b[0m\n\u001b[0m\u001b[1;32m   1057\u001b[0m \u001b[0;34m\u001b[0m\u001b[0m\n\u001b[1;32m   1058\u001b[0m         \u001b[0;32mreturn\u001b[0m \u001b[0mself\u001b[0m\u001b[0;34m.\u001b[0m\u001b[0m_wrap_aggregated_output\u001b[0m\u001b[0;34m(\u001b[0m\u001b[0moutput\u001b[0m\u001b[0;34m,\u001b[0m \u001b[0mnames\u001b[0m\u001b[0;34m)\u001b[0m\u001b[0;34m\u001b[0m\u001b[0;34m\u001b[0m\u001b[0m\n",
      "\u001b[0;31mDataError\u001b[0m: No numeric types to aggregate"
     ]
    }
   ],
   "source": [
    "suicide_country= pd.DataFrame({'suicide_count' : dat.groupby([\"country\"])[\"suicides_no\"].sum()}).reset_index()\n",
    "suicide_country= suicide_country.sort_values(by= 'suicide_count')\n",
    "#print(suicide_country)\n",
    "\n",
    "#Top 10 countries: \n",
    "#Russian Federation, United States, Japan, France, Ukraine, Germany, Republic of Korea, Brazil, Poland, UK\n",
    "usa= dat[dat['country']=='United States']\n",
    "us_gdp= pd.DataFrame({'gdp_per_year': usa.groupby([\"year\"])[\"gdp_per_year\"].mean()}).reset_index()\n",
    "print(us_gdp)\n",
    "# fig, ax= plt.subplots(figsize=(10,8))\n",
    "# ax.bar(suicide_country.country, suicide_country.suicide_count)\n",
    "# ax.set_title(\"Suicide Count by Age\")\n",
    "# ax.set_xlabel(\"Age group\")\n",
    "# ax.set_ylabel(\"Suicide count\") "
   ]
  },
  {
   "cell_type": "code",
   "execution_count": 77,
   "metadata": {},
   "outputs": [
    {
     "data": {
      "text/plain": [
       "dtype('O')"
      ]
     },
     "execution_count": 77,
     "metadata": {},
     "output_type": "execute_result"
    }
   ],
   "source": []
  },
  {
   "cell_type": "code",
   "execution_count": null,
   "metadata": {},
   "outputs": [],
   "source": []
  }
 ],
 "metadata": {
  "kernelspec": {
   "display_name": "Python 3",
   "language": "python",
   "name": "python3"
  },
  "language_info": {
   "codemirror_mode": {
    "name": "ipython",
    "version": 3
   },
   "file_extension": ".py",
   "mimetype": "text/x-python",
   "name": "python",
   "nbconvert_exporter": "python",
   "pygments_lexer": "ipython3",
   "version": "3.6.7"
  }
 },
 "nbformat": 4,
 "nbformat_minor": 2
}
